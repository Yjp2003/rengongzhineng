{
 "cells": [
  {
   "cell_type": "code",
   "execution_count": 1,
   "id": "049d0a9c-748a-4ccf-8815-f194803fad5f",
   "metadata": {},
   "outputs": [],
   "source": [
    "import torch\n",
    "import torchvision.datasets as dset\n",
    "import torchvision.transforms as transforms"
   ]
  },
  {
   "cell_type": "code",
   "execution_count": 2,
   "id": "231157ad-7dc5-42aa-bc8f-4b9c7a9dcaaa",
   "metadata": {},
   "outputs": [],
   "source": [
    "Train_batch_size = 64\n",
    "Test_batch_size = 10000"
   ]
  },
  {
   "cell_type": "code",
   "execution_count": 3,
   "id": "daa7b549-b143-4a89-bd87-019821c517ad",
   "metadata": {},
   "outputs": [],
   "source": [
    "train_data = dset.MNIST(\"./mnist\", train=True, transform=transforms.ToTensor(), target_transform=None, download=True)\n",
    "test_data = dset.MNIST(\"./mnist\", train=False, transform=transforms.ToTensor(), target_transform=None, download=False)"
   ]
  },
  {
   "cell_type": "code",
   "execution_count": 4,
   "id": "cdf4baac-f4da-4571-a6b2-b857f0d2f348",
   "metadata": {},
   "outputs": [
    {
     "data": {
      "text/plain": [
       "torch.Size([60000, 28, 28])"
      ]
     },
     "execution_count": 4,
     "metadata": {},
     "output_type": "execute_result"
    }
   ],
   "source": [
    "train_data.data.size()"
   ]
  },
  {
   "cell_type": "code",
   "execution_count": 5,
   "id": "b7e5a0cb-b0fd-4ab8-a999-46e9037288ff",
   "metadata": {},
   "outputs": [],
   "source": [
    "train_loader = torch.utils.data.DataLoader(dataset=train_data, batch_size=Train_batch_size, shuffle=True)\n",
    "test_loader = torch.utils.data.DataLoader(dataset=test_data, batch_size=Test_batch_size, shuffle=True)"
   ]
  },
  {
   "cell_type": "code",
   "execution_count": 6,
   "id": "c7c84fc7-87b6-4c20-8eb5-149fb0c18049",
   "metadata": {},
   "outputs": [],
   "source": [
    "import torch.nn.functional as F\n",
    "class RNN(torch.nn.Module):\n",
    "    def __init__(self):\n",
    "        super(RNN,self).__init__()\n",
    "        self.rnn = torch.nn.LSTM(     \n",
    "            input_size=28,      \n",
    "            hidden_size=100,   \n",
    "            num_layers=2,      \n",
    "            batch_first=True,  \n",
    "        )\n",
    "        self.out = torch.nn.Linear(100, 10)   \n",
    "    def forward(self,x):\n",
    "        r_out, (s_h, s_c) = self.rnn(x, None)   \n",
    "        out = self.out(r_out[:, -1, :])\n",
    "        return out"
   ]
  },
  {
   "cell_type": "code",
   "execution_count": 7,
   "id": "0a302b84-52a1-47d9-93f1-29161a61ff15",
   "metadata": {},
   "outputs": [
    {
     "data": {
      "text/plain": [
       "RNN(\n",
       "  (rnn): LSTM(28, 100, num_layers=2, batch_first=True)\n",
       "  (out): Linear(in_features=100, out_features=10, bias=True)\n",
       ")"
      ]
     },
     "execution_count": 7,
     "metadata": {},
     "output_type": "execute_result"
    }
   ],
   "source": [
    "rnn = RNN() \n",
    "rnn"
   ]
  },
  {
   "cell_type": "code",
   "execution_count": 8,
   "id": "7b45c9dc-5745-464f-81e9-3a8a5a8a828e",
   "metadata": {},
   "outputs": [],
   "source": [
    "optimizer = torch.optim.SGD(rnn.parameters(), lr=0.01)   \n",
    "loss_func = torch.nn.CrossEntropyLoss()  "
   ]
  },
  {
   "cell_type": "code",
   "execution_count": 10,
   "id": "f1400b77-6621-43af-a163-3ab0e5c3b90c",
   "metadata": {},
   "outputs": [
    {
     "name": "stdout",
     "output_type": "stream",
     "text": [
      "step: 0\n",
      "Train Accuracy=0.97\n",
      "Test Accuracy=0.97\n",
      "------------------\n",
      "step: 500\n",
      "Train Accuracy=0.97\n",
      "Test Accuracy=0.97\n",
      "------------------\n",
      "step: 1000\n",
      "Train Accuracy=0.92\n",
      "Test Accuracy=0.96\n",
      "------------------\n",
      "step: 1500\n",
      "Train Accuracy=0.97\n",
      "Test Accuracy=0.93\n",
      "------------------\n",
      "step: 2000\n",
      "Train Accuracy=0.73\n",
      "Test Accuracy=0.77\n",
      "------------------\n",
      "step: 2500\n",
      "Train Accuracy=0.84\n",
      "Test Accuracy=0.83\n",
      "------------------\n",
      "step: 3000\n",
      "Train Accuracy=0.88\n",
      "Test Accuracy=0.89\n",
      "------------------\n",
      "step: 3500\n",
      "Train Accuracy=0.91\n",
      "Test Accuracy=0.93\n",
      "------------------\n",
      "step: 4000\n",
      "Train Accuracy=0.92\n",
      "Test Accuracy=0.93\n",
      "------------------\n",
      "step: 4500\n",
      "Train Accuracy=0.95\n",
      "Test Accuracy=0.93\n",
      "------------------\n",
      "step: 5000\n",
      "Train Accuracy=0.94\n",
      "Test Accuracy=0.93\n",
      "------------------\n",
      "step: 5500\n",
      "Train Accuracy=0.94\n",
      "Test Accuracy=0.93\n",
      "------------------\n",
      "step: 6000\n",
      "Train Accuracy=0.84\n",
      "Test Accuracy=0.91\n",
      "------------------\n",
      "step: 6500\n",
      "Train Accuracy=0.84\n",
      "Test Accuracy=0.88\n",
      "------------------\n",
      "step: 7000\n",
      "Train Accuracy=0.95\n",
      "Test Accuracy=0.91\n",
      "------------------\n",
      "step: 7500\n",
      "Train Accuracy=0.89\n",
      "Test Accuracy=0.92\n",
      "------------------\n",
      "step: 8000\n",
      "Train Accuracy=0.92\n",
      "Test Accuracy=0.94\n",
      "------------------\n",
      "step: 8500\n",
      "Train Accuracy=0.95\n",
      "Test Accuracy=0.94\n",
      "------------------\n",
      "step: 9000\n",
      "Train Accuracy=0.92\n",
      "Test Accuracy=0.94\n",
      "------------------\n"
     ]
    }
   ],
   "source": [
    "epochs = 10 \n",
    "step = 0\n",
    "for e in range(epochs):\n",
    "    for (x,y) in train_loader:\n",
    "\n",
    "        out = rnn(x.view(-1,28,28))\n",
    "        loss = loss_func(out,y)\n",
    "        optimizer.zero_grad()\n",
    "        loss.backward()\n",
    "        optimizer.step()\n",
    "        pred = torch.argmax(F.softmax(out, dim=1), 1)  # 明确指定dim参数\n",
    "        correct = pred.eq(y.data.view_as(pred))\n",
    "        correct = correct.type(torch.float)\n",
    "        acc = torch.sum(correct)/Train_batch_size\n",
    "        if step %500==0:\n",
    "            print('step:',step)\n",
    "            print('Train Accuracy=%.2f'%acc)          \n",
    "            for x_,y_ in test_loader:             \n",
    "                x_ = x_.type(torch.float32)\n",
    "                test_out = rnn(x_.view(-1,28,28))\n",
    "                test_pred = torch.argmax(F.softmax(test_out, dim=1), 1) \n",
    "                te_correct = test_pred.eq(y_.data.view_as(test_pred))\n",
    "                te_correct = te_correct.type(torch.float)\n",
    "                te_acc = torch.sum(te_correct)/10000\n",
    "                print('Test Accuracy=%.2f'%te_acc)\n",
    "                print('------------------')\n",
    "        step += 1"
   ]
  },
  {
   "cell_type": "code",
   "execution_count": null,
   "id": "b692ad25-5add-44fd-bbd6-9b61977ddd73",
   "metadata": {},
   "outputs": [],
   "source": []
  },
  {
   "cell_type": "code",
   "execution_count": null,
   "id": "6770b8c1-3f12-4e48-9121-e567052cc108",
   "metadata": {},
   "outputs": [],
   "source": []
  }
 ],
 "metadata": {
  "kernelspec": {
   "display_name": "Python 3 (ipykernel)",
   "language": "python",
   "name": "python3"
  },
  "language_info": {
   "codemirror_mode": {
    "name": "ipython",
    "version": 3
   },
   "file_extension": ".py",
   "mimetype": "text/x-python",
   "name": "python",
   "nbconvert_exporter": "python",
   "pygments_lexer": "ipython3",
   "version": "3.8.19"
  }
 },
 "nbformat": 4,
 "nbformat_minor": 5
}
