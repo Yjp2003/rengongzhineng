{
 "cells": [
  {
   "cell_type": "markdown",
   "id": "9dd8919d-67ae-4961-9f49-8525d4ab88a3",
   "metadata": {},
   "source": [
    "# 构建逻辑回归模型，实现肿瘤预测"
   ]
  },
  {
   "cell_type": "code",
   "execution_count": null,
   "id": "f41e5e34-03d9-4ed0-aac1-95534b96e5e2",
   "metadata": {},
   "outputs": [],
   "source": [
    "## 1、加载、查看乳腺癌数据集"
   ]
  },
  {
   "cell_type": "code",
   "execution_count": 1,
   "id": "e1089db9-5159-4331-a86f-a0babfaa6e8a",
   "metadata": {},
   "outputs": [
    {
     "name": "stdout",
     "output_type": "stream",
     "text": [
      "dict_keys(['data', 'target', 'frame', 'target_names', 'DESCR', 'feature_names', 'filename', 'data_module'])\n"
     ]
    }
   ],
   "source": [
    "from sklearn.datasets import load_breast_cancer\n",
    "\n",
    "cancer = load_breast_cancer() # 加载cancer数据集\n",
    "print(cancer.keys()) # 查看数据有哪些keys（与鸢尾花数据集相同）"
   ]
  },
  {
   "cell_type": "code",
   "execution_count": 3,
   "id": "e16fd1dc-3baf-4e97-9f61-c662d89ef81a",
   "metadata": {},
   "outputs": [
    {
     "name": "stdout",
     "output_type": "stream",
     "text": [
      "['malignant' 'benign']\n",
      "[0 0 0 0 0 0 0 0 0 0 0 0 0 0 0 0 0 0 0 1 1 1 0 0 0 0 0 0 0 0 0 0 0 0 0 0 0\n",
      " 1 0 0 0 0 0 0 0 0 1 0 1 1 1 1 1 0 0 1 0 0 1 1 1 1 0 1 0 0 1 1 1 1 0 1 0 0\n",
      " 1 0 1 0 0 1 1 1 0 0 1 0 0 0 1 1 1 0 1 1 0 0 1 1 1 0 0 1 1 1 1 0 1 1 0 1 1\n",
      " 1 1 1 1 1 1 0 0 0 1 0 0 1 1 1 0 0 1 0 1 0 0 1 0 0 1 1 0 1 1 0 1 1 1 1 0 1\n",
      " 1 1 1 1 1 1 1 1 0 1 1 1 1 0 0 1 0 1 1 0 0 1 1 0 0 1 1 1 1 0 1 1 0 0 0 1 0\n",
      " 1 0 1 1 1 0 1 1 0 0 1 0 0 0 0 1 0 0 0 1 0 1 0 1 1 0 1 0 0 0 0 1 1 0 0 1 1\n",
      " 1 0 1 1 1 1 1 0 0 1 1 0 1 1 0 0 1 0 1 1 1 1 0 1 1 1 1 1 0 1 0 0 0 0 0 0 0\n",
      " 0 0 0 0 0 0 0 1 1 1 1 1 1 0 1 0 1 1 0 1 1 0 1 0 0 1 1 1 1 1 1 1 1 1 1 1 1\n",
      " 1 0 1 1 0 1 0 1 1 1 1 1 1 1 1 1 1 1 1 1 1 0 1 1 1 0 1 0 1 1 1 1 0 0 0 1 1\n",
      " 1 1 0 1 0 1 0 1 1 1 0 1 1 1 1 1 1 1 0 0 0 1 1 1 1 1 1 1 1 1 1 1 0 0 1 0 0\n",
      " 0 1 0 0 1 1 1 1 1 0 1 1 1 1 1 0 1 1 1 0 1 1 0 0 1 1 1 1 1 1 0 1 1 1 1 1 1\n",
      " 1 0 1 1 1 1 1 0 1 1 0 1 1 1 1 1 1 1 1 1 1 1 1 0 1 0 0 1 0 1 1 1 1 1 0 1 1\n",
      " 0 1 0 1 1 0 1 0 1 1 1 1 1 1 1 1 0 0 1 1 1 1 1 1 0 1 1 1 1 1 1 1 1 1 1 0 1\n",
      " 1 1 1 1 1 1 0 1 0 1 1 0 1 1 1 1 1 0 0 1 0 1 0 1 1 1 1 1 0 1 1 0 1 0 1 0 0\n",
      " 1 1 1 0 1 1 1 1 1 1 1 1 1 1 1 0 1 0 0 1 1 1 1 1 1 1 1 1 1 1 1 1 1 1 1 1 1\n",
      " 1 1 1 1 1 1 1 0 0 0 0 0 0 1]\n"
     ]
    }
   ],
   "source": [
    "print(cancer.target_names) # 标签名称（malingant-恶性，begin-良性）\n",
    "print(cancer.target) # 标签数据（569个0或1， 0-恶性，1-良性）"
   ]
  },
  {
   "cell_type": "markdown",
   "id": "a76b8597-a152-4187-8b05-94b747f91337",
   "metadata": {},
   "source": [
    "## 2、拆分数据集"
   ]
  },
  {
   "cell_type": "code",
   "execution_count": 4,
   "id": "55b0c33a-cf15-412e-a5c5-689184cdc1aa",
   "metadata": {},
   "outputs": [
    {
     "name": "stdout",
     "output_type": "stream",
     "text": [
      "(426, 30) (143, 30)\n",
      "(426,) (143,)\n"
     ]
    }
   ],
   "source": [
    "from sklearn.model_selection import train_test_split\n",
    "\n",
    "# 随机拆分数据集\n",
    "# X_train 训练集\n",
    "# X_test 测试集\n",
    "# y_train 训练集标签（即训练集数据对应的类别）\n",
    "# y_test 测试集标签（即测试集数据对应的类别）\n",
    "# test_size 测试集比例\n",
    "# random_state 随机状态（设置为固定值可以锁定拆分结果，用于数据复现）\n",
    "X_train, X_test, y_train, y_test = train_test_split(cancer.data, cancer.target, \n",
    "                                                    test_size=0.25, random_state=0)\n",
    "# 查看拆分情况\n",
    "print(X_train.shape, X_test.shape)\n",
    "print(y_train.shape, y_test.shape)"
   ]
  },
  {
   "cell_type": "markdown",
   "id": "eaf4b830-6a6a-4563-8afa-411187db5f50",
   "metadata": {},
   "source": [
    "## 3、构建模型并评估"
   ]
  },
  {
   "cell_type": "code",
   "execution_count": 5,
   "id": "980f37f8-064d-432f-977e-41ad0a60ea96",
   "metadata": {},
   "outputs": [
    {
     "name": "stdout",
     "output_type": "stream",
     "text": [
      "0.960093896713615 0.951048951048951\n"
     ]
    }
   ],
   "source": [
    "from sklearn.linear_model import LogisticRegression\n",
    "\n",
    "# 采用默认参数创建LR模型，并拟合训练数据\n",
    "model = LogisticRegression(max_iter=10000).fit(X_train, y_train)\n",
    "\n",
    "# 评估模型在训练集和测试集上的成绩\n",
    "score_train = model.score(X_train, y_train)\n",
    "score_test = model.score(X_test, y_test)\n",
    "print(score_train, score_test)"
   ]
  },
  {
   "cell_type": "markdown",
   "id": "906ae1c8-e604-427a-90f6-766e46e980c1",
   "metadata": {},
   "source": [
    "## 4、在测试集上预测结果，并输出预测概率"
   ]
  },
  {
   "cell_type": "code",
   "execution_count": 6,
   "id": "938227de-c9e3-4adf-86ca-cfed219cceb9",
   "metadata": {},
   "outputs": [
    {
     "name": "stdout",
     "output_type": "stream",
     "text": [
      "[0 1 1]\n",
      "[[0.99524673 0.00475327]\n",
      " [0.03166841 0.96833159]\n",
      " [0.00149419 0.99850581]]\n"
     ]
    }
   ],
   "source": [
    "# 预测结果（0-恶性，1-良性）\n",
    "y_pred = model.predict(X_test[:3]) # 预测测试集前三个样本\n",
    "print(y_pred)\n",
    "\n",
    "# 输出预测的概率值（0和1的概率值）\n",
    "y_pred_proba = model.predict_proba(X_test[:3]) # 预测测试集前三个样本\n",
    "print(y_pred_proba)"
   ]
  },
  {
   "cell_type": "markdown",
   "id": "f1d3d407-2b6e-4e5a-af12-5709d40556f3",
   "metadata": {},
   "source": [
    "## 5、扩展-使用LR模型实现鸢尾花分类"
   ]
  },
  {
   "cell_type": "code",
   "execution_count": 7,
   "id": "e6e82bbe-03d7-44c6-941a-ad892abb32f8",
   "metadata": {},
   "outputs": [
    {
     "name": "stdout",
     "output_type": "stream",
     "text": [
      "0.9910714285714286 0.9736842105263158\n",
      "预测类别： [2 1 0 2 0 2 0 1 1 1]\n",
      "实际类别： [2 1 0 2 0 2 0 1 1 1]\n"
     ]
    }
   ],
   "source": [
    "from sklearn.datasets import load_iris \n",
    "\n",
    "# 加载Iris数据集\n",
    "iris = load_iris()\n",
    "\n",
    "# 数据集拆分\n",
    "X_train, X_test, y_train, y_test = train_test_split(iris.data, iris.target, \n",
    "                                                    test_size=0.25, random_state=0)\n",
    "# 创建LR模型\n",
    "# model = LogisticRegression().fit(X_train, y_train) # 0.9821428571428571 0.9736842105263158\n",
    "# 优化模型参数，提升模型性能（C正则化系数，penalty正则化类型l1 or l2）\n",
    "model = LogisticRegression(C=10, penalty='l2',max_iter=10000).fit(X_train, y_train)   # 0.9910714285714286 0.9736842105263158\n",
    "\n",
    "# 评估模型成绩\n",
    "score_train = model.score(X_train, y_train)\n",
    "score_test = model.score(X_test, y_test)\n",
    "print(score_train, score_test)\n",
    "\n",
    "# 预测鸢尾花种类并与实际种类做对比(前十个样本)\n",
    "y_pred = model.predict(X_test)\n",
    "print('预测类别：' ,y_pred[:10])\n",
    "print('实际类别：' ,y_test[:10])"
   ]
  },
  {
   "cell_type": "code",
   "execution_count": null,
   "id": "39acd516-3273-4b75-bae4-c356c6d16087",
   "metadata": {},
   "outputs": [],
   "source": []
  }
 ],
 "metadata": {
  "kernelspec": {
   "display_name": "Python 3 (ipykernel)",
   "language": "python",
   "name": "python3"
  },
  "language_info": {
   "codemirror_mode": {
    "name": "ipython",
    "version": 3
   },
   "file_extension": ".py",
   "mimetype": "text/x-python",
   "name": "python",
   "nbconvert_exporter": "python",
   "pygments_lexer": "ipython3",
   "version": "3.10.14"
  }
 },
 "nbformat": 4,
 "nbformat_minor": 5
}
