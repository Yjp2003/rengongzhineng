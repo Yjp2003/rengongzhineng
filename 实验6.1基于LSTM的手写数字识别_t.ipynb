{
 "cells": [
  {
   "cell_type": "code",
   "execution_count": 1,
   "metadata": {},
   "outputs": [],
   "source": [
    "import torch # 导入torch框架\n",
    "import torchvision.datasets as dset # 使用torchvision方便导入数据集\n",
    "import torchvision.transforms as transforms # 使用torchvision方便数据转换为tensor"
   ]
  },
  {
   "cell_type": "code",
   "execution_count": 2,
   "metadata": {},
   "outputs": [],
   "source": [
    "Train_batch_size = 64 # 训练集数据每次训练使用的数据量\n",
    "Test_batch_size = 10000 # 测试集所有数据量，用于在训练完成后一次性输入全部测试数据"
   ]
  },
  {
   "cell_type": "markdown",
   "metadata": {},
   "source": [
    "### 下载数据集"
   ]
  },
  {
   "cell_type": "code",
   "execution_count": 3,
   "metadata": {},
   "outputs": [],
   "source": [
    "train_data = dset.MNIST(\"./mnist\", train=True, transform=transforms.ToTensor(), target_transform=None, download=True)\n",
    "# 将数据下载到指定目录，然后将数据转换为tensor张量"
   ]
  },
  {
   "cell_type": "code",
   "execution_count": 4,
   "metadata": {},
   "outputs": [],
   "source": [
    "test_data = dset.MNIST(\"./mnist\", train=False, transform=transforms.ToTensor(), target_transform=None, download=False)"
   ]
  },
  {
   "cell_type": "code",
   "execution_count": 5,
   "metadata": {},
   "outputs": [
    {
     "data": {
      "text/plain": [
       "torch.Size([60000, 28, 28])"
      ]
     },
     "execution_count": 5,
     "metadata": {},
     "output_type": "execute_result"
    }
   ],
   "source": [
    "train_data.data.size()# 查看训练集的shape"
   ]
  },
  {
   "cell_type": "markdown",
   "metadata": {},
   "source": [
    "### 生成器"
   ]
  },
  {
   "cell_type": "code",
   "execution_count": 6,
   "metadata": {},
   "outputs": [],
   "source": [
    "train_loader = torch.utils.data.DataLoader(dataset=train_data, batch_size=Train_batch_size, shuffle=True)\n",
    "# 将数据集放入torch自带的数据生成器中，方便训练"
   ]
  },
  {
   "cell_type": "code",
   "execution_count": 7,
   "metadata": {},
   "outputs": [],
   "source": [
    "test_loader = torch.utils.data.DataLoader(dataset=test_data,batch_size=Test_batch_size, shuffle=True)"
   ]
  },
  {
   "cell_type": "markdown",
   "metadata": {},
   "source": [
    "### 搭建网络"
   ]
  },
  {
   "cell_type": "code",
   "execution_count": 8,
   "metadata": {},
   "outputs": [],
   "source": [
    "import torch.nn.functional as F"
   ]
  },
  {
   "cell_type": "code",
   "execution_count": 9,
   "metadata": {},
   "outputs": [],
   "source": [
    "class RNN(torch.nn.Module):\n",
    "    def __init__(self):\n",
    "        super(RNN,self).__init__()\n",
    "        self.rnn = torch.nn.LSTM(     \n",
    "            input_size=28,      # 图片每行的数据像素点\n",
    "            hidden_size=100,     # rnn hidden unit\n",
    "            num_layers=2,       # 有几层 RNN layers\n",
    "            batch_first=True,   # input & output 会是以 batch size 为第一维度的特征集 e.g. (batch, time_step, input_size)\n",
    "        )\n",
    "        self.out = torch.nn.Linear(100, 10)    # 输出层\n",
    "    def forward(self,x):\n",
    "         # x shape (batch, time_step, input_size)\n",
    "        # r_out shape (batch, time_step, output_size)\n",
    "        # s_h shape (n_layers, batch, hidden_size)   LSTM 有两个 hidden states\n",
    "        # s_c shape (n_layers, batch, hidden_size)\n",
    "        r_out, (s_h, s_c) = self.rnn(x, None)   # None 表示 hidden state 会用全0的 state,初始化的hidden states\n",
    "        # 选取最后一个时间点的 r_out 输出\n",
    "        # 这里 r_out[:, -1, :] 的值也是 h_n 的值\n",
    "        out = self.out(r_out[:, -1, :])\n",
    "        #out = self.out(s_h[-1])\n",
    "        \n",
    "        return out"
   ]
  },
  {
   "cell_type": "code",
   "execution_count": 10,
   "metadata": {},
   "outputs": [
    {
     "data": {
      "text/plain": [
       "RNN(\n",
       "  (rnn): LSTM(28, 100, num_layers=2, batch_first=True)\n",
       "  (out): Linear(in_features=100, out_features=10, bias=True)\n",
       ")"
      ]
     },
     "execution_count": 10,
     "metadata": {},
     "output_type": "execute_result"
    }
   ],
   "source": [
    "rnn = RNN() # 将RNN模型实例化\n",
    "rnn"
   ]
  },
  {
   "cell_type": "markdown",
   "metadata": {},
   "source": [
    "### 优化器+损失"
   ]
  },
  {
   "cell_type": "code",
   "execution_count": 11,
   "metadata": {},
   "outputs": [],
   "source": [
    "optimizer = torch.optim.Adam(rnn.parameters(), lr=0.01)   # 使用adam优化器，学习率是0.01，对rnn所有的参数进行优化\n",
    "loss_func = torch.nn.CrossEntropyLoss()   # 使用交叉熵作为损失函数"
   ]
  },
  {
   "cell_type": "code",
   "execution_count": 12,
   "metadata": {},
   "outputs": [
    {
     "name": "stderr",
     "output_type": "stream",
     "text": [
      "C:\\Users\\zhang\\AppData\\Local\\Continuum\\anaconda3\\envs\\gpu\\lib\\site-packages\\ipykernel_launcher.py:11: UserWarning: Implicit dimension choice for softmax has been deprecated. Change the call to include dim=X as an argument.\n",
      "  # This is added back by InteractiveShellApp.init_path()\n"
     ]
    },
    {
     "name": "stdout",
     "output_type": "stream",
     "text": [
      "step: 0\n",
      "Train Accuracy=0.11\n",
      "Test Accuracy=0.14\n",
      "------------------\n",
      "step: 500\n",
      "Train Accuracy=0.98\n",
      "Test Accuracy=0.96\n",
      "------------------\n",
      "step: 1000\n",
      "Train Accuracy=0.97\n",
      "Test Accuracy=0.96\n",
      "------------------\n",
      "step: 1500\n",
      "Train Accuracy=0.98\n",
      "Test Accuracy=0.97\n",
      "------------------\n",
      "step: 2000\n",
      "Train Accuracy=0.95\n",
      "Test Accuracy=0.97\n",
      "------------------\n",
      "step: 2500\n",
      "Train Accuracy=0.97\n",
      "Test Accuracy=0.98\n",
      "------------------\n",
      "step: 3000\n",
      "Train Accuracy=0.97\n",
      "Test Accuracy=0.97\n",
      "------------------\n",
      "step: 3500\n",
      "Train Accuracy=0.98\n",
      "Test Accuracy=0.97\n",
      "------------------\n",
      "step: 4000\n",
      "Train Accuracy=1.00\n",
      "Test Accuracy=0.97\n",
      "------------------\n",
      "step: 4500\n",
      "Train Accuracy=1.00\n",
      "Test Accuracy=0.98\n",
      "------------------\n"
     ]
    }
   ],
   "source": [
    "epochs = 5 # 训练轮数\n",
    "step = 0\n",
    "for e in range(epochs):\n",
    "    for (x,y)in train_loader:\n",
    "#         print(x.shape)\n",
    "        out = rnn(x.view(-1,28,28))# 将图片转为(n,28,28)的然后输入模型，获取输出\n",
    "        loss = loss_func(out,y)# 根据输出和标签计算loss\n",
    "        optimizer.zero_grad()# 初始化梯度\n",
    "        loss.backward()# 计算梯度\n",
    "        optimizer.step()# 更新参数\n",
    "        pred = torch.argmax(F.softmax(out),1) # 获得预测结果\n",
    "        correct = pred.eq(y.data.view_as(pred)) # 计算正确率\n",
    "        correct = correct.type(torch.float)\n",
    "        acc = torch.sum(correct)/Train_batch_size\n",
    "        if step %500==0: # 每500步的时候，测试集测试一次，并进行一次结果输出\n",
    "            print('step:',step)\n",
    "            print('Train Accuracy=%.2f'%acc)\n",
    "            # 验证集\n",
    "            for x_,y_ in test_loader:\n",
    "#                 print(\"y_\",y_.shape)\n",
    "                x_ = x_.type(torch.float32)\n",
    "                test_out = rnn(x_.view(-1,28,28))\n",
    "                test_pred = torch.argmax(test_out,1)\n",
    "#                 print(test_pred.shape)\n",
    "                te_correct = test_pred.eq(y_.data.view_as(test_pred))\n",
    "#                 print(te_correct)\n",
    "                te_correct = te_correct.type(torch.float)\n",
    "                te_acc = torch.sum(te_correct)/10000\n",
    "                print('Test Accuracy=%.2f'%te_acc)\n",
    "                print('------------------')\n",
    "        step += 1\n",
    "            "
   ]
  },
  {
   "cell_type": "code",
   "execution_count": null,
   "metadata": {},
   "outputs": [],
   "source": []
  }
 ],
 "metadata": {
  "kernelspec": {
   "display_name": "Python 3 (ipykernel)",
   "language": "python",
   "name": "python3"
  },
  "language_info": {
   "codemirror_mode": {
    "name": "ipython",
    "version": 3
   },
   "file_extension": ".py",
   "mimetype": "text/x-python",
   "name": "python",
   "nbconvert_exporter": "python",
   "pygments_lexer": "ipython3",
   "version": "3.8.19"
  }
 },
 "nbformat": 4,
 "nbformat_minor": 4
}
