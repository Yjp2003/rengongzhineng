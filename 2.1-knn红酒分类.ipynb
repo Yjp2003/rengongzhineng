{
 "cells": [
  {
   "cell_type": "markdown",
   "id": "918e4738-d15e-4184-a2c7-dfb462ea9513",
   "metadata": {},
   "source": [
    "## 1.加载、查看红酒数据集"
   ]
  },
  {
   "cell_type": "code",
   "execution_count": null,
   "id": "34156162-4584-4da8-aee4-5f1eb26b6dd8",
   "metadata": {},
   "outputs": [],
   "source": [
    "import numpy as np\n",
    "import pandas as pd\n",
    "import matplotlib.pyplot as plt\n",
    "from sklearn.datasets import load_wine\n",
    "from sklearn.model_selection import train_test_split\n",
    "from sklearn.neighbors import KNeighborsClassifier"
   ]
  },
  {
   "cell_type": "code",
   "execution_count": null,
   "id": "eba3a115-79d1-442b-ba3a-b1e75f468ac8",
   "metadata": {},
   "outputs": [],
   "source": [
    "#加载wine数据集\n",
    "wine=load_wine()\n",
    "print(wine.keys())"
   ]
  },
  {
   "cell_type": "code",
   "execution_count": null,
   "id": "a36406a8-a5cd-4ef1-9511-0543fb0a7f3e",
   "metadata": {},
   "outputs": [],
   "source": [
    "print('shape of data:',wine.data.shape)\n",
    "print('shape of target:',wine.target.shape)\n",
    "print('target_names:',wine.target_names)\n",
    "print('feature_names:',wine.feature_names)"
   ]
  },
  {
   "cell_type": "code",
   "execution_count": null,
   "id": "7270bb11-5b64-40c7-9e81-c8b890b7e118",
   "metadata": {},
   "outputs": [],
   "source": [
    "data = wine.data # 样本数据\n",
    "target = wine.target # 数据标签\n",
    "target_names = wine.target_names  # 标签名称\n",
    "feature_names = wine.feature_names # 特征名称"
   ]
  },
  {
   "cell_type": "code",
   "execution_count": null,
   "id": "400043a1-ba64-4746-ad1f-115931b8b730",
   "metadata": {},
   "outputs": [],
   "source": [
    "df=pd.DataFrame(data,columns=feature_names)\n",
    "df"
   ]
  },
  {
   "cell_type": "markdown",
   "id": "ed379092-40ba-496a-b271-22906fc1bd55",
   "metadata": {},
   "source": [
    "## 2、数据集可视化\n",
    "选两个特征构造散点图"
   ]
  },
  {
   "cell_type": "code",
   "execution_count": null,
   "id": "67dcd001-f24e-42e3-bbeb-b283bcd8e0ec",
   "metadata": {},
   "outputs": [],
   "source": [
    "import matplotlib.pyplot as plt\n",
    "import numpy as np\n",
    "fig = plt.figure(figsize=(10,5)) # 定义画板尺寸\n",
    "# 构造数据\n",
    "x1 = df['alcohol'][target==0]\n",
    "y1 = df['flavanoids'][target==0]\n",
    "x2 = df['alcohol'][target==1]\n",
    "y2 = df['flavanoids'][target==1]\n",
    "x3 = df['alcohol'][target==2]\n",
    "y3 = df['flavanoids'][target==2]\n",
    "# 绘制散点图\n",
    "plt.scatter(x1, y1, c='red', label='Group 1', alpha=0.7,marker='*')\n",
    "plt.scatter(x2, y2, c='magenta', label='Group 2', alpha=0.7,marker='+')\n",
    "plt.scatter(x3, y3, c='green', label='Group 3', alpha=0.7)\n",
    "# 设置标题和坐标轴标签\n",
    "plt.title('Wine Scatter Plot')\n",
    "plt.xlabel('alcohol')\n",
    "plt.ylabel('flavanoids')\n",
    "plt.legend()\n",
    "plt.show()"
   ]
  },
  {
   "cell_type": "markdown",
   "id": "ea36e164-5fa2-46ee-8b1c-a7aeaa7bcb42",
   "metadata": {},
   "source": [
    "## 3、将数据集拆分为训练集和测试集"
   ]
  },
  {
   "cell_type": "code",
   "execution_count": null,
   "id": "ec5ccf34-dd14-4584-b3b3-006e6f22e021",
   "metadata": {},
   "outputs": [],
   "source": [
    "X_train, X_test, y_train, y_test = train_test_split(data, target, test_size=0.25, random_state=0)\n",
    "print(X_train.shape, X_test.shape,y_train.shape,y_test.shape)"
   ]
  },
  {
   "cell_type": "markdown",
   "id": "ac353d5d-5185-4801-9f8c-ec5a8780ebc1",
   "metadata": {},
   "source": [
    "## 4、构建K-NN分类模型"
   ]
  },
  {
   "cell_type": "code",
   "execution_count": null,
   "id": "fda14acb-4e0b-4c67-9eba-fc7d64ce3b46",
   "metadata": {},
   "outputs": [],
   "source": [
    "# 构建模型\n",
    "model = KNeighborsClassifier(n_neighbors=5)\n",
    "model.fit(X_train, y_train) # 拟合训练数据\n",
    "# 评估模型\n",
    "score = model.score(X_test, y_test)\n",
    "print('Score:{:.2f}'.format(score))"
   ]
  },
  {
   "cell_type": "code",
   "execution_count": null,
   "id": "855899a4-4b6e-44c8-8b60-44fdad205611",
   "metadata": {},
   "outputs": [],
   "source": [
    "# 预测红酒种类\n",
    "y_pred = model.predict(X_test[:5]) # 预测测试集前五个样本的品种\n",
    "print(y_pred) # 打印预测结果\n",
    "print(y_test[:5]) # 打印实际品种"
   ]
  }
 ],
 "metadata": {
  "kernelspec": {
   "display_name": "Python 3 (ipykernel)",
   "language": "python",
   "name": "python3"
  },
  "language_info": {
   "codemirror_mode": {
    "name": "ipython",
    "version": 3
   },
   "file_extension": ".py",
   "mimetype": "text/x-python",
   "name": "python",
   "nbconvert_exporter": "python",
   "pygments_lexer": "ipython3",
   "version": "3.10.14"
  }
 },
 "nbformat": 4,
 "nbformat_minor": 5
}
