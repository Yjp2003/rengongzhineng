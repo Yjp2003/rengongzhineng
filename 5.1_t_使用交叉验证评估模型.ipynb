{
 "cells": [
  {
   "cell_type": "markdown",
   "metadata": {},
   "source": [
    "## 使用交叉验证评估模型"
   ]
  },
  {
   "cell_type": "markdown",
   "metadata": {},
   "source": [
    "### 1、K-折交叉验证（K-kold Cross Validation）\n",
    "+ 交叉验证旨在通过多次划分数据集更全面地评估模型在该数据集上的泛化能力\n",
    "+ scikit-learn中，交叉验证函数为：cross_val_score\n",
    "+ 划分次数（也叫折数）通过cv参数来指定，通常使用3、5或10"
   ]
  },
  {
   "cell_type": "code",
   "execution_count": 7,
   "metadata": {},
   "outputs": [
    {
     "name": "stdout",
     "output_type": "stream",
     "text": [
      "[0.98 0.96 0.98]\n",
      "0.9733333333333333\n"
     ]
    }
   ],
   "source": [
    "from sklearn.model_selection import cross_val_score # 交叉验证函数\n",
    "from sklearn.datasets import load_iris \n",
    "from sklearn.linear_model import LogisticRegression \n",
    " \n",
    "iris = load_iris() # 加载iris数据集\n",
    "model = LogisticRegression(max_iter=10000) # 创建逻辑回归模型\n",
    "\n",
    "# 交叉验证，参数依次为：模型、数据、数据标签、cv（即折数K）\n",
    "scores = cross_val_score(model, iris.data, iris.target, cv=3) # cv=3，即3折交叉，输出3个评估成绩\n",
    "print(scores) # 每次的评估成绩（数组）\n",
    "print(scores.mean()) # 计算平均成绩"
   ]
  },
  {
   "cell_type": "markdown",
   "metadata": {},
   "source": [
    "### 2、留一法交叉验证（Leave-one-out Cross Validation）"
   ]
  },
  {
   "cell_type": "code",
   "execution_count": 8,
   "metadata": {},
   "outputs": [
    {
     "name": "stdout",
     "output_type": "stream",
     "text": [
      "150\n",
      "0.9666666666666667\n"
     ]
    }
   ],
   "source": [
    "from sklearn.datasets import load_iris\n",
    "from sklearn.model_selection import LeaveOneOut, cross_val_score\n",
    "from sklearn.neighbors import KNeighborsClassifier \n",
    "\n",
    "iris = load_iris() # 加载数据集\n",
    "model = KNeighborsClassifier() # 创建模型\n",
    "\n",
    "loo = LeaveOneOut() # 定义留一法策略，作为cv参数的值\n",
    "scores = cross_val_score(model, iris.data, iris.target, cv=loo)\n",
    "\n",
    "print(len(scores)) # 留一法输出150个评估成绩（因为样本数为150）\n",
    "print(scores.mean()) # 计算平均成绩"
   ]
  },
  {
   "cell_type": "markdown",
   "metadata": {},
   "source": [
    "### 3、打乱划分交叉验证（Shuffle-split Cross Validation）"
   ]
  },
  {
   "cell_type": "code",
   "execution_count": 9,
   "metadata": {},
   "outputs": [
    {
     "name": "stdout",
     "output_type": "stream",
     "text": [
      "[0.9 1.  0.9 1.  0.9]\n",
      "0.9400000000000001\n"
     ]
    }
   ],
   "source": [
    "from sklearn.datasets import load_iris\n",
    "from sklearn.model_selection import ShuffleSplit, cross_val_score\n",
    "from sklearn.linear_model import LogisticRegression \n",
    "\n",
    "iris = load_iris()\n",
    "model = LogisticRegression(max_iter=10000)\n",
    "\n",
    "# 划分5次，每次取100个样本作为训练集，10个样本作为测试集\n",
    "shuffle_split = ShuffleSplit(train_size=100, test_size=10, n_splits=5) \n",
    "scores = cross_val_score(model, iris.data, iris.target, cv=shuffle_split) \n",
    "print(scores)\n",
    "print(scores.mean())\n",
    "\n",
    "# 除指定样本个数外，还可以指定百分比\n",
    "# 这里就是划分5次，每次取80%为训练集，20%为测试集\n",
    "shuffle_split = ShuffleSplit(train_size=0.8, test_size=0.2, n_splits=5) "
   ]
  },
  {
   "cell_type": "code",
   "execution_count": null,
   "metadata": {},
   "outputs": [],
   "source": []
  },
  {
   "cell_type": "code",
   "execution_count": null,
   "metadata": {},
   "outputs": [],
   "source": []
  }
 ],
 "metadata": {
  "kernelspec": {
   "display_name": "Python 3 (ipykernel)",
   "language": "python",
   "name": "python3"
  },
  "language_info": {
   "codemirror_mode": {
    "name": "ipython",
    "version": 3
   },
   "file_extension": ".py",
   "mimetype": "text/x-python",
   "name": "python",
   "nbconvert_exporter": "python",
   "pygments_lexer": "ipython3",
   "version": "3.11.5"
  },
  "toc": {
   "base_numbering": 1,
   "nav_menu": {},
   "number_sections": true,
   "sideBar": true,
   "skip_h1_title": false,
   "title_cell": "Table of Contents",
   "title_sidebar": "Contents",
   "toc_cell": false,
   "toc_position": {},
   "toc_section_display": true,
   "toc_window_display": false
  }
 },
 "nbformat": 4,
 "nbformat_minor": 4
}
